{
 "cells": [
  {
   "cell_type": "code",
   "execution_count": 1,
   "id": "4ecb0dde-c634-4101-9425-d89132fcf450",
   "metadata": {},
   "outputs": [],
   "source": [
    "import os\n",
    "import time\n",
    "import requests\n",
    "import pandas as pd\n",
    "from tqdm import tqdm\n",
    "from urllib.parse import urlparse"
   ]
  },
  {
   "cell_type": "code",
   "execution_count": 2,
   "id": "ecd7b500-db80-4490-a591-9627aaab9f35",
   "metadata": {},
   "outputs": [],
   "source": [
    "df = pd.read_json(\"./data/items.json\")"
   ]
  },
  {
   "cell_type": "markdown",
   "id": "76e9f2c6-640f-413e-a059-05c6c8368413",
   "metadata": {},
   "source": [
    "Get GIF urls"
   ]
  },
  {
   "cell_type": "code",
   "execution_count": 3,
   "id": "8f8b3629-c5fe-4771-88a5-bf209d887ea3",
   "metadata": {},
   "outputs": [],
   "source": [
    "df['gif_url'] = df.image_url.str[0]"
   ]
  },
  {
   "cell_type": "code",
   "execution_count": 4,
   "id": "d291eb45-a480-415a-b798-a92bb879b594",
   "metadata": {},
   "outputs": [],
   "source": [
    "gif_df = df[~pd.isnull(df.gif_url)][['id', 'gif_url']].copy()"
   ]
  },
  {
   "cell_type": "code",
   "execution_count": 5,
   "id": "b067eccd-1d65-421e-83e6-3fa254ce431e",
   "metadata": {},
   "outputs": [],
   "source": [
    "assert gif_df.notna().all().all()"
   ]
  },
  {
   "cell_type": "markdown",
   "id": "704b58c4-64f1-4b26-b227-d204b6370d42",
   "metadata": {},
   "source": [
    "Get JPG urls"
   ]
  },
  {
   "cell_type": "code",
   "execution_count": 19,
   "id": "e8ad904a-ea5d-445c-8270-fa82c7f72b24",
   "metadata": {},
   "outputs": [],
   "source": [
    "df['jpg_url'] = df.image_url.str[-1]"
   ]
  },
  {
   "cell_type": "code",
   "execution_count": 21,
   "id": "495fc40a-7d78-4087-8129-aae547ed9119",
   "metadata": {},
   "outputs": [],
   "source": [
    "jpg_df = df[~pd.isnull(df.jpg_url)][['id', 'jpg_url']].copy()"
   ]
  },
  {
   "cell_type": "code",
   "execution_count": 22,
   "id": "a57f9a99-ad89-4366-8cf7-1bdcda5571c3",
   "metadata": {},
   "outputs": [],
   "source": [
    "assert jpg_df.notna().all().all()"
   ]
  },
  {
   "cell_type": "markdown",
   "id": "c526a3f8-964d-4fec-9bd1-8a27c9a3a1ce",
   "metadata": {},
   "source": [
    "Download urls"
   ]
  },
  {
   "cell_type": "code",
   "execution_count": 23,
   "id": "960a9f75-79d7-443a-b17c-0f3dbe52788e",
   "metadata": {},
   "outputs": [],
   "source": [
    "def download_url(url, target_dir=\"img/gif\", verbose=False):\n",
    "    parsed_url = urlparse(url)\n",
    "    basename = os.path.basename(parsed_url.path)\n",
    "    filepath = os.path.join(target_dir, basename)\n",
    "    if not os.path.exists(filepath):\n",
    "        if verbose:\n",
    "            print(f\"Downloading {url}\")\n",
    "        r = requests.get(url)\n",
    "        if not r.ok:\n",
    "            if r.status_code == 404:\n",
    "                print(f\"404: {url}\")\n",
    "            else:\n",
    "                raise ValueError(f\"Error code: {r.status_code} Check: {url}\")\n",
    "        with open(filepath, 'wb') as f:\n",
    "            f.write(r.content)\n",
    "        time.sleep(0.1)\n",
    "    return filepath"
   ]
  },
  {
   "cell_type": "code",
   "execution_count": 24,
   "id": "b2e1aeb7-e15a-4b17-8a05-ba2780145963",
   "metadata": {},
   "outputs": [
    {
     "data": {
      "text/plain": [
       "35035"
      ]
     },
     "execution_count": 24,
     "metadata": {},
     "output_type": "execute_result"
    }
   ],
   "source": [
    "len(gif_df)"
   ]
  },
  {
   "cell_type": "code",
   "execution_count": 32,
   "id": "d7c2845c-461f-421b-8a54-e89e787f3e03",
   "metadata": {},
   "outputs": [],
   "source": [
    "tqdm.pandas(desc=\"Download GIFs\")"
   ]
  },
  {
   "cell_type": "code",
   "execution_count": 33,
   "id": "ceb30436-d784-40cd-a383-39f9bc94cea1",
   "metadata": {},
   "outputs": [
    {
     "name": "stderr",
     "output_type": "stream",
     "text": [
      "Download GIFs: 100%|██████████████████████████████████████████████████████████████████████████████████████████████████████████████████████████████████| 35035/35035 [1:18:12<00:00,  7.47it/s]\n"
     ]
    }
   ],
   "source": [
    "gif_df['gif_path'] = gif_df.gif_url.progress_apply(download_url)"
   ]
  },
  {
   "cell_type": "code",
   "execution_count": 28,
   "id": "49077c89-9df8-46ea-8f13-2de671b6d4db",
   "metadata": {},
   "outputs": [],
   "source": [
    "# tqdm.pandas(desc=\"Download JPGs\")"
   ]
  },
  {
   "cell_type": "code",
   "execution_count": 29,
   "id": "48d255d6-ca2c-4b4a-859c-3390b90c84a2",
   "metadata": {},
   "outputs": [
    {
     "name": "stderr",
     "output_type": "stream",
     "text": [
      "Download JPGs: 100%|█████████████████████████████████████████████████████████████████████████████████████████████████████████████████████████████████| 35035/35035 [00:00<00:00, 74119.37it/s]\n"
     ]
    }
   ],
   "source": [
    "# jpg_df['jpg_path'] = jpg_df.jpg_url.progress_apply(lambda x: download_url(x, target_dir=\"img/jpg\"))"
   ]
  }
 ],
 "metadata": {
  "kernelspec": {
   "display_name": "Python 3 (ipykernel)",
   "language": "python",
   "name": "python3"
  },
  "language_info": {
   "codemirror_mode": {
    "name": "ipython",
    "version": 3
   },
   "file_extension": ".py",
   "mimetype": "text/x-python",
   "name": "python",
   "nbconvert_exporter": "python",
   "pygments_lexer": "ipython3",
   "version": "3.9.7"
  }
 },
 "nbformat": 4,
 "nbformat_minor": 5
}
