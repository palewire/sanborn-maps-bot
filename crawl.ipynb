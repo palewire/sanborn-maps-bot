{
 "cells": [
  {
   "cell_type": "code",
   "execution_count": 12,
   "id": "580076c5-1661-4f52-9bd1-980007bb6b3e",
   "metadata": {},
   "outputs": [],
   "source": [
    "import json\n",
    "import time\n",
    "import requests"
   ]
  },
  {
   "cell_type": "code",
   "execution_count": 15,
   "id": "adeef2e3-0f2f-4d9d-96a1-356c3d9ba3d3",
   "metadata": {},
   "outputs": [],
   "source": [
    "def get_json(url, results=[]):\n",
    "    r = requests.get(url)\n",
    "    if not r.ok:\n",
    "        raise ValueError(f\"Error code: {r.status_code} Check: {url}\")\n",
    "    data = r.json()\n",
    "    results.extend(data['results'])\n",
    "    if data[\"pagination\"][\"next\"] is not None:\n",
    "        next_url = data[\"pagination\"][\"next\"]\n",
    "        time.sleep(0.1)\n",
    "        get_json(next_url, results)\n",
    "    return results"
   ]
  },
  {
   "cell_type": "code",
   "execution_count": 16,
   "id": "ea17d2c2-0c97-489e-ae55-c200c13961e0",
   "metadata": {},
   "outputs": [],
   "source": [
    "results = get_json(\"https://www.loc.gov/collections/sanborn-maps/?fo=json\")"
   ]
  },
  {
   "cell_type": "code",
   "execution_count": 18,
   "id": "71ade553-577e-4be5-b479-21214bcdbfba",
   "metadata": {},
   "outputs": [],
   "source": [
    "with open(\"data/items.json\", \"w\") as f:\n",
    "    json.dump(results, f, indent=2)"
   ]
  }
 ],
 "metadata": {
  "kernelspec": {
   "display_name": "Python 3 (ipykernel)",
   "language": "python",
   "name": "python3"
  },
  "language_info": {
   "codemirror_mode": {
    "name": "ipython",
    "version": 3
   },
   "file_extension": ".py",
   "mimetype": "text/x-python",
   "name": "python",
   "nbconvert_exporter": "python",
   "pygments_lexer": "ipython3",
   "version": "3.9.7"
  }
 },
 "nbformat": 4,
 "nbformat_minor": 5
}
